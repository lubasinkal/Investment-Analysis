{
 "cells": [
  {
   "cell_type": "markdown",
   "metadata": {},
   "source": [
    "# Market data analysis"
   ]
  },
  {
   "cell_type": "markdown",
   "metadata": {},
   "source": [
    "### Market data collection"
   ]
  },
  {
   "cell_type": "code",
   "execution_count": 10,
   "metadata": {},
   "outputs": [
    {
     "name": "stdout",
     "output_type": "stream",
     "text": [
      "Your tickers will be stored in a <class 'list'>\n"
     ]
    }
   ],
   "source": [
    "import yfinance as yf\n",
    "import pandas as pd\n",
    "\n",
    "tickers = []\n",
    "print(f'Your tickers will be stored in a {type(tickers)}')"
   ]
  },
  {
   "cell_type": "code",
   "execution_count": 24,
   "metadata": {},
   "outputs": [
    {
     "name": "stderr",
     "output_type": "stream",
     "text": [
      "[*********************100%%**********************]  1 of 1 completed\n",
      "[*********************100%%**********************]  1 of 1 completed\n",
      "[*********************100%%**********************]  1 of 1 completed\n"
     ]
    }
   ],
   "source": [
    "import os\n",
    "import yfinance as yf\n",
    "import pandas as pd\n",
    "from datetime import date\n",
    "\n",
    "# Create the 'tickers' directory if it doesn't exist\n",
    "if not os.path.exists('tickers'):\n",
    "    os.makedirs('tickers')\n",
    "\n",
    "tickers = [\"AAPL\",\"META\",\"ABG.JO\"]\n",
    "for ticker in tickers:\n",
    "    data = yf.download(ticker,start=\"2000-01-01\",end=date.today())\n",
    "    data = pd.DataFrame(data=data)\n",
    "    data.to_csv(f\"tickers/{ticker}.csv\")"
   ]
  },
  {
   "cell_type": "markdown",
   "metadata": {},
   "source": [
    "### Feature Engineering"
   ]
  },
  {
   "cell_type": "code",
   "execution_count": 30,
   "metadata": {},
   "outputs": [
    {
     "name": "stdout",
     "output_type": "stream",
     "text": [
      "c:\\Users\\Nkalolang\\Dropbox\\PC\\Documents\\GitHub\\Investment Analysis\\FinancialMarkets\\tickers\\AAPL.csv\n",
      "c:\\Users\\Nkalolang\\Dropbox\\PC\\Documents\\GitHub\\Investment Analysis\\FinancialMarkets\\tickers\\META.csv\n",
      "c:\\Users\\Nkalolang\\Dropbox\\PC\\Documents\\GitHub\\Investment Analysis\\FinancialMarkets\\tickers\\ABG.JO.csv\n"
     ]
    }
   ],
   "source": [
    "import os\n",
    "\n",
    "import numpy as np\n",
    "\n",
    "# Assuming you want to join 'tickers' with the current directory\n",
    "tickers_path = os.path.join(os.getcwd(), 'tickers')\n",
    "\n",
    "# Loop through each ticker and create the path to the CSV file\n",
    "for ticker in tickers:\n",
    "    file_path = os.path.join(tickers_path, f'{ticker}.csv')\n",
    "    print(file_path)\n",
    "    \n",
    "    # Read the CSV file into a DataFrame\n",
    "    df = pd.read_csv(file_path)\n",
    "    \n",
    "    # Calculate returns and add to DataFrame\n",
    "    df[\"Log Returns\"] = np.log(df[\"Adj Close\"] / df[\"Adj Close\"].shift(1))\n",
    "    # Calculate cumulative log returns\n",
    "    df['Cumulative Log Returns'] = df['Log Returns'].cumsum()\n",
    "\n",
    "    # Calculate cumulative returns from cumulative log returns\n",
    "    df['Cumulative Returns'] = np.exp(df['Cumulative Log Returns']) - 1\n",
    "\n",
    "    # Convert cumulative returns to percentage\n",
    "    df['Cumulative Percentage Return'] = df['Cumulative Returns'] * 100\n",
    "\n",
    "    # Save the updated DataFrame to a new CSV file\n",
    "    output_file_path = os.path.join(tickers_path, f'{ticker}_Update.csv')\n",
    "    df.to_csv(output_file_path, index=False)"
   ]
  }
 ],
 "metadata": {
  "kernelspec": {
   "display_name": "datasci",
   "language": "python",
   "name": "python3"
  },
  "language_info": {
   "codemirror_mode": {
    "name": "ipython",
    "version": 3
   },
   "file_extension": ".py",
   "mimetype": "text/x-python",
   "name": "python",
   "nbconvert_exporter": "python",
   "pygments_lexer": "ipython3",
   "version": "3.12.3"
  }
 },
 "nbformat": 4,
 "nbformat_minor": 2
}
