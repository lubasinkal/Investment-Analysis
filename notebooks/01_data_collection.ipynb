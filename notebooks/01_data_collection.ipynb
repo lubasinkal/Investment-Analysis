{
 "cells": [
  {
   "cell_type": "markdown",
   "metadata": {},
   "source": [
    "# Data Collection for Investment Analysis\n",
    "## Introduction\n",
    "\n",
    "In this notebook, we collect historical market data for selected stocks using the yfinance library. The primary goal is to gather comprehensive datasets for analysis, visualization, and potential use in machine learning models. This project serves as an educational exercise to explore Python's capabilities in financial data analysis.\n",
    "### Objectives:\n",
    "``Download Historical Stock Data:`` Retrieve historical data for selected stocks.\n",
    "\n",
    "``Store Data Efficiently:`` Save the collected data in a structured format for further analysis.\n",
    "\n",
    "``Maintain Data Quality:`` Ensure data completeness and accuracy."
   ]
  },
  {
   "cell_type": "code",
   "execution_count": 31,
   "metadata": {},
   "outputs": [
    {
     "name": "stderr",
     "output_type": "stream",
     "text": [
      "[*********************100%%**********************]  1 of 1 completed\n",
      "[*********************100%%**********************]  1 of 1 completed\n",
      "[*********************100%%**********************]  1 of 1 completed\n",
      "[*********************100%%**********************]  1 of 1 completed\n"
     ]
    }
   ],
   "source": [
    "import yfinance as yf\n",
    "import pandas as pd\n",
    "from datetime import datetime\n",
    "\n",
    "def download_data(ticker, start_date,end_date):\n",
    "    start_date = datetime.strptime(start_date, '%Y-%m-%d')\n",
    "    end_date = datetime.strptime(end_date, '%Y-%m-%d')\n",
    "    start_date = start_date.strftime('%Y-%m-%d')\n",
    "    end_date = end_date.strftime('%Y-%m-%d')\n",
    "    if isinstance(ticker, list):\n",
    "        for i in ticker:\n",
    "            data = yf.download(i, start = start_date, end = end_date)\n",
    "            # data.to_csv(f\"../data/raw/market data/{i}_{datetime.now().strftime('%Y-%m-%d')}.csv\")\n",
    "            data.to_csv(f\"../data/raw/market data/{i}.csv\")\n",
    "    else:\n",
    "        data = yf.download(ticker, start = start_date, end = end_date)\n",
    "        # data.to_csv(f\"../data/raw/market data/{ticker}_{datetime.now().strftime('%Y-%m-%d')}.csv\")\n",
    "        data.to_csv(f\"../data/raw/market data/{i}.csv\")\n",
    "\n",
    "\n",
    "def main():\n",
    "    ticker= [\"AAPL\",\"META\",\"ABG.JO\",\"MSFT\"]\n",
    "    start_date = '2000-01-01'\n",
    "    end_date = datetime.today().strftime('%Y-%m-%d')\n",
    "    download_data(ticker,start_date,end_date)\n",
    "\n",
    "\n",
    "if __name__ == '__main__':\n",
    "    main()"
   ]
  },
  {
   "cell_type": "markdown",
   "metadata": {},
   "source": [
    "### Data Storage\n",
    "\n",
    "The data is saved in the ../data/raw/market data/ directory, with filenames including the ticker symbol. This format helps in managing and eliminated repetitive versioning of standardised data.\n",
    "\n",
    "__Future Enhancements__\n",
    "\n",
    "``Data Quality Checks:`` Implement methods to verify the integrity and completeness of the data.\n",
    "\n",
    "``Database Integration:`` Consider storing the data in a database for efficient querying and management.\n",
    "\n",
    "``Automation:`` Automate the data collection process using scheduling tools like GitHub Actions.\n",
    "\n",
    "### Conclusion\n",
    "\n",
    "This notebook lays the foundation for the broader investment analysis project. By systematically collecting and storing data, we set the stage for in-depth analysis and machine learning applications. As the project evolves, we will expand the scope to include more data sources and advanced analytical techniques.\n",
    "\n",
    "Note: This project is a work in progress, and the current implementation may be refined over time."
   ]
  }
 ],
 "metadata": {
  "kernelspec": {
   "display_name": "datasci",
   "language": "python",
   "name": "python3"
  },
  "language_info": {
   "codemirror_mode": {
    "name": "ipython",
    "version": 3
   },
   "file_extension": ".py",
   "mimetype": "text/x-python",
   "name": "python",
   "nbconvert_exporter": "python",
   "pygments_lexer": "ipython3",
   "version": "3.12.3"
  }
 },
 "nbformat": 4,
 "nbformat_minor": 2
}
